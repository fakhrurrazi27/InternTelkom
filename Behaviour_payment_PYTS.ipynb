{
  "nbformat": 4,
  "nbformat_minor": 0,
  "metadata": {
    "colab": {
      "provenance": []
    },
    "kernelspec": {
      "name": "python3",
      "display_name": "Python 3"
    },
    "language_info": {
      "name": "python"
    }
  },
  "cells": [
    {
      "cell_type": "code",
      "execution_count": null,
      "metadata": {
        "id": "0Q7fk9IsbLRt"
      },
      "outputs": [],
      "source": [
        "!pip install pyts"
      ]
    },
    {
      "cell_type": "markdown",
      "source": [
        "#Import library and data"
      ],
      "metadata": {
        "id": "3mnrTvMebZKN"
      }
    },
    {
      "cell_type": "code",
      "source": [
        "import pandas as pd\n",
        "pd.set_option('display.max_columns', None)\n",
        "import numpy as np\n",
        "import seaborn as sns\n",
        "import matplotlib.pyplot as plt\n",
        "sns.set(rc={'figure.figsize':(20.27,10)})\n",
        "import tensorflow as tf"
      ],
      "metadata": {
        "id": "QVwPjVUdbWUT"
      },
      "execution_count": null,
      "outputs": []
    },
    {
      "cell_type": "code",
      "source": [
        "from google.colab import drive"
      ],
      "metadata": {
        "id": "aWuqoGDCbilF"
      },
      "execution_count": null,
      "outputs": []
    },
    {
      "cell_type": "code",
      "source": [
        "#import data\n",
        "drive.mount('/content/gdrive')"
      ],
      "metadata": {
        "id": "Omg4cYHjbkyG"
      },
      "execution_count": null,
      "outputs": []
    },
    {
      "cell_type": "code",
      "source": [
        "df = pd.read_csv('gdrive/My Drive/MBKM/gladius_v3.csv')"
      ],
      "metadata": {
        "id": "D8CPYNwObneO"
      },
      "execution_count": null,
      "outputs": []
    },
    {
      "cell_type": "code",
      "source": [
        "df.reset_index(inplace = True)"
      ],
      "metadata": {
        "id": "UetJ_02VbpX2"
      },
      "execution_count": null,
      "outputs": []
    },
    {
      "cell_type": "code",
      "source": [
        "def late(x):\n",
        "  if x == 0:\n",
        "    return 'UNPAID'\n",
        "  elif (x >= 1) & (x<21):\n",
        "    return 'PAID'\n",
        "  else:\n",
        "    return 'LATE PAID'\n",
        "\n",
        "for i in range(11, 0, -1):\n",
        "  df[f'month_{i}_late'] = df['billing_{}_paymentDay'.format(i)].apply(lambda x : late(x))"
      ],
      "metadata": {
        "id": "XndWjymGbqLW"
      },
      "execution_count": null,
      "outputs": []
    },
    {
      "cell_type": "markdown",
      "source": [
        "#modeling"
      ],
      "metadata": {
        "id": "DDulJiLtbv3N"
      }
    },
    {
      "cell_type": "code",
      "source": [
        "amount = ['billing_{}_amountTotal'.format(i) for i in range(2,12)]\n",
        "channel = ['billing_{}_channel'.format(i) for i in range (2,12)]\n",
        "payDay = ['billing_{}_paymentDay'.format(i) for i in range (2,12)]\n",
        "late = ['month_{}_late'.format(i) for i in range (1,12)]"
      ],
      "metadata": {
        "id": "tkp6HeKUbu0N"
      },
      "execution_count": null,
      "outputs": []
    },
    {
      "cell_type": "code",
      "source": [
        "from sklearn.model_selection import train_test_split\n",
        "from sklearn.metrics import confusion_matrix, classification_report"
      ],
      "metadata": {
        "id": "x_Dx0G7pb1Lu"
      },
      "execution_count": null,
      "outputs": []
    },
    {
      "cell_type": "code",
      "source": [
        "col_used2 = amount + channel + payDay + late\n",
        "col_used2.append('gladius.paketradius')\n",
        "col_used2.append('usage')"
      ],
      "metadata": {
        "id": "RzYJ0Iazb3ju"
      },
      "execution_count": null,
      "outputs": []
    },
    {
      "cell_type": "code",
      "source": [
        "df_model = sample_df[col_used2].loc[df['month_1_late'] != 'UNPAID']"
      ],
      "metadata": {
        "id": "zXsyri9cb5wd"
      },
      "execution_count": null,
      "outputs": []
    },
    {
      "cell_type": "code",
      "source": [
        "#code categorical data\n",
        "from sklearn.preprocessing import LabelEncoder\n",
        "\n",
        "label = LabelEncoder()\n",
        "\n",
        "for column in channel:\n",
        "  df_model[column] = label.fit_transform(df_model[column])\n",
        "channel_class = list(label.classes_)\n",
        "\n",
        "for column in late:\n",
        "  df_model[column] = label.fit_transform(df_model[column])\n",
        "late_class = list(label.classes_)\n",
        "\n",
        "df_model['gladius.paketradius'] = label.fit_transform(df_model['gladius.paketradius'])\n",
        "paket_class = list(label.classes_)"
      ],
      "metadata": {
        "id": "3lfQKjTRb9ON"
      },
      "execution_count": null,
      "outputs": []
    },
    {
      "cell_type": "code",
      "source": [
        "X = df_model.drop('month_1_late', axis=1)\n",
        "Y = df_model['month_1_late']\n",
        "\n",
        "x_train, x_test, y_train, y_test = train_test_split(X, Y, test_size=0.3, random_state=42)"
      ],
      "metadata": {
        "id": "02K95ZeZcDXm"
      },
      "execution_count": null,
      "outputs": []
    },
    {
      "cell_type": "code",
      "source": [
        "from pyts.classification import TimeSeriesForest\n",
        "model = TimeSeriesForest(n_estimators = 2000, random_state=43)\n",
        "model.fit(x_train, y_train)"
      ],
      "metadata": {
        "id": "k3i8oS_CcFn-"
      },
      "execution_count": null,
      "outputs": []
    },
    {
      "cell_type": "code",
      "source": [
        "y_pred = model.predict(x_test)"
      ],
      "metadata": {
        "id": "9JydZIjPcJOG"
      },
      "execution_count": null,
      "outputs": []
    },
    {
      "cell_type": "code",
      "source": [
        "# evaluating the model\n",
        "print('Training Accuracy :', model.score(x_train, y_train))\n",
        "print('Testing Accuracy :', model.score(x_test, y_test))\n",
        "\n",
        "# confusion matrix\n",
        "cm = tf.math.confusion_matrix(labels=y_test,predictions=y_pred)\n",
        "\n",
        "plt.figure(figsize = (10,7))\n",
        "sns.heatmap(cm, annot=True, fmt='d')\n",
        "plt.xlabel('Predicted')\n",
        "plt.ylabel('Truth')\n",
        "plt.show()\n",
        "\n",
        "# classification report\n",
        "print('\\nClassification report:')\n",
        "cr = classification_report(y_test, y_pred)\n",
        "print(cr)"
      ],
      "metadata": {
        "id": "yl_I75NRcLjl"
      },
      "execution_count": null,
      "outputs": []
    },
    {
      "cell_type": "code",
      "source": [
        "model.feature_importances_"
      ],
      "metadata": {
        "id": "4KrpKRKKcN2e"
      },
      "execution_count": null,
      "outputs": []
    },
    {
      "cell_type": "code",
      "source": [
        "import pickle\n",
        "\n",
        "pickle.dump(model, open('model_sample_2.p','wb'))\n",
        "\n",
        "\n",
        "pickle.dump(channel_class, open('channel_sample_2.p', 'wb'))\n",
        "pickle.dump(late_class, open('late_sample_2.p', 'wb'))\n",
        "pickle.dump(paket_class, open('paket_sample_2', 'wb'))"
      ],
      "metadata": {
        "id": "OjWcUbUicWfV"
      },
      "execution_count": null,
      "outputs": []
    },
    {
      "cell_type": "code",
      "source": [
        "pickle.dump(paket_class, open('paket_sample_2.p', 'wb'))"
      ],
      "metadata": {
        "id": "mJx_wsVscaxW"
      },
      "execution_count": null,
      "outputs": []
    },
    {
      "cell_type": "markdown",
      "source": [
        "cek label encoder di setiap billing channel, misal kolom 1 indomaret kode 0, apakah indomaret di kolom 2 juga kode 0? cek jumlah channel tiap kolomnya sama atau enggak\n",
        "\n",
        "cara cek df['billing_1_channel].unique df['billing_2_channel].unique"
      ],
      "metadata": {
        "id": "mTcs5Rpmcch1"
      }
    }
  ]
}